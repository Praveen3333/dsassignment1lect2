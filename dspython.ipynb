{
 "cells": [
  {
   "cell_type": "code",
   "execution_count": 1,
   "id": "4a186624-569a-478e-9092-c9839b9249ff",
   "metadata": {},
   "outputs": [
    {
     "name": "stdout",
     "output_type": "stream",
     "text": [
      "!dlroW ,olleH\n"
     ]
    }
   ],
   "source": [
    "def reverse_string(input_str):\n",
    "    reversed_str = \"\"\n",
    "    for char in input_str:\n",
    "        reversed_str = char + reversed_str\n",
    "    return reversed_str\n",
    "\n",
    "# Example usage\n",
    "string = \"Hello, World!\"\n",
    "reversed_string = reverse_string(string)\n",
    "print(reversed_string)\n"
   ]
  },
  {
   "cell_type": "code",
   "execution_count": 2,
   "id": "817888eb-5268-4510-a8e8-77b813100329",
   "metadata": {},
   "outputs": [
    {
     "name": "stdout",
     "output_type": "stream",
     "text": [
      "Palindrome\n"
     ]
    }
   ],
   "source": [
    "def is_palindrome(input_str):\n",
    "    reversed_str = reverse_string(input_str)\n",
    "    return input_str == reversed_str\n",
    "\n",
    "# Example usage\n",
    "string = \"madam\"\n",
    "if is_palindrome(string):\n",
    "    print(\"Palindrome\")\n",
    "else:\n",
    "    print(\"Not a palindrome\")\n"
   ]
  },
  {
   "cell_type": "code",
   "execution_count": 3,
   "id": "c20e9436-9581-4e77-8fac-e1e2f58b20ed",
   "metadata": {},
   "outputs": [
    {
     "name": "stdout",
     "output_type": "stream",
     "text": [
      "9\n"
     ]
    }
   ],
   "source": [
    "def find_largest_element(lst):\n",
    "    largest = lst[0]\n",
    "    for num in lst:\n",
    "        if num > largest:\n",
    "            largest = num\n",
    "    return largest\n",
    "\n",
    "# Example usage\n",
    "numbers = [5, 2, 9, 1, 7]\n",
    "largest_number = find_largest_element(numbers)\n",
    "print(largest_number)\n"
   ]
  },
  {
   "cell_type": "code",
   "execution_count": 4,
   "id": "47897614-8ae6-4979-b558-c93779d48ae3",
   "metadata": {},
   "outputs": [
    {
     "name": "stdout",
     "output_type": "stream",
     "text": [
      "{1: 2, 2: 2, 3: 2, 4: 2, 5: 1}\n"
     ]
    }
   ],
   "source": [
    "def count_occurrences(lst):\n",
    "    occurrence_count = {}\n",
    "    for item in lst:\n",
    "        if item in occurrence_count:\n",
    "            occurrence_count[item] += 1\n",
    "        else:\n",
    "            occurrence_count[item] = 1\n",
    "    return occurrence_count\n",
    "\n",
    "# Example usage\n",
    "numbers = [1, 2, 3, 2, 1, 3, 4, 5, 4]\n",
    "occurrences = count_occurrences(numbers)\n",
    "print(occurrences)\n"
   ]
  },
  {
   "cell_type": "code",
   "execution_count": 5,
   "id": "7bbfa9ba-e06c-4d01-909e-d71fe864872c",
   "metadata": {},
   "outputs": [
    {
     "name": "stdout",
     "output_type": "stream",
     "text": [
      "7\n"
     ]
    }
   ],
   "source": [
    "def find_second_largest(lst):\n",
    "    largest = max(lst[0], lst[1])\n",
    "    second_largest = min(lst[0], lst[1])\n",
    "\n",
    "    for i in range(2, len(lst)):\n",
    "        if lst[i] > largest:\n",
    "            second_largest = largest\n",
    "            largest = lst[i]\n",
    "        elif lst[i] > second_largest and lst[i] != largest:\n",
    "            second_largest = lst[i]\n",
    "\n",
    "    return second_largest\n",
    "\n",
    "# Example usage\n",
    "numbers = [5, 2, 9, 1, 7]\n",
    "second_largest_number = find_second_largest(numbers)\n",
    "print(second_largest_number)\n"
   ]
  },
  {
   "cell_type": "code",
   "execution_count": 6,
   "id": "975500e7-4949-427a-a62b-af9e84e74017",
   "metadata": {},
   "outputs": [
    {
     "name": "stdout",
     "output_type": "stream",
     "text": [
      "[1, 2, 3, 4, 5]\n"
     ]
    }
   ],
   "source": [
    "def remove_duplicates(lst):\n",
    "    return list(set(lst))\n",
    "\n",
    "# Example usage\n",
    "numbers = [1, 2, 3, 2, 1, 3, 4, 5, 4]\n",
    "unique_numbers = remove_duplicates(numbers)\n",
    "print(unique_numbers)\n"
   ]
  },
  {
   "cell_type": "code",
   "execution_count": 7,
   "id": "18f56671-123d-447b-9da3-0dfbc6fb8be4",
   "metadata": {},
   "outputs": [
    {
     "name": "stdout",
     "output_type": "stream",
     "text": [
      "120\n"
     ]
    }
   ],
   "source": [
    "def factorial(n):\n",
    "    if n == 0:\n",
    "        return 1\n",
    "    else:\n",
    "        return n * factorial(n - 1)\n",
    "\n",
    "# Example usage\n",
    "num = 5\n",
    "result = factorial(num)\n",
    "print(result)\n"
   ]
  },
  {
   "cell_type": "code",
   "execution_count": 8,
   "id": "b633417d-95cf-45e9-b1e8-f3fb2ad5d6ed",
   "metadata": {},
   "outputs": [
    {
     "name": "stdout",
     "output_type": "stream",
     "text": [
      "Prime\n"
     ]
    }
   ],
   "source": [
    "def is_prime(n):\n",
    "    if n <= 1:\n",
    "        return False\n",
    "    for i in range(2, int(n ** 0.5) + 1):\n",
    "        if n % i == 0:\n",
    "            return False\n",
    "    return True\n",
    "\n",
    "# Example usage\n",
    "num = 17\n",
    "if is_prime(num):\n",
    "    print(\"Prime\")\n",
    "else:\n",
    "    print(\"Not prime\")\n"
   ]
  },
  {
   "cell_type": "code",
   "execution_count": 9,
   "id": "4566b664-47f1-40c2-9947-facedaa1948e",
   "metadata": {},
   "outputs": [
    {
     "name": "stdout",
     "output_type": "stream",
     "text": [
      "[1, 2, 5, 7, 9]\n"
     ]
    }
   ],
   "source": [
    "def sort_list(lst):\n",
    "    return sorted(lst)\n",
    "\n",
    "# Example usage\n",
    "numbers = [5, 2, 9, 1, 7]\n",
    "sorted_numbers = sort_list(numbers)\n",
    "print(sorted_numbers)\n"
   ]
  },
  {
   "cell_type": "code",
   "execution_count": 10,
   "id": "8753873d-6c4b-4a87-800d-52b92b74501f",
   "metadata": {},
   "outputs": [
    {
     "name": "stdout",
     "output_type": "stream",
     "text": [
      "15\n"
     ]
    }
   ],
   "source": [
    "def find_sum(lst):\n",
    "    total = 0\n",
    "    for num in lst:\n",
    "        total += num\n",
    "    return total\n",
    "\n",
    "# Example usage\n",
    "numbers = [1, 2, 3, 4, 5]\n",
    "sum_of_numbers = find_sum(numbers)\n",
    "print(sum_of_numbers)\n"
   ]
  },
  {
   "cell_type": "code",
   "execution_count": 11,
   "id": "68eae13e-97f6-4d0e-ac79-b9ef438301b4",
   "metadata": {},
   "outputs": [
    {
     "name": "stdout",
     "output_type": "stream",
     "text": [
      "[4, 5]\n"
     ]
    }
   ],
   "source": [
    "def find_common_elements(list1, list2):\n",
    "    return list(set(list1) & set(list2))\n",
    "\n",
    "# Example usage\n",
    "list1 = [1, 2, 3, 4, 5]\n",
    "list2 = [4, 5, 6, 7, 8]\n",
    "common_elements = find_common_elements(list1, list2)\n",
    "print(common_elements)\n"
   ]
  },
  {
   "cell_type": "code",
   "execution_count": 12,
   "id": "c664d46f-16be-4dcd-a90c-3fd73c5ae2bc",
   "metadata": {},
   "outputs": [
    {
     "name": "stdout",
     "output_type": "stream",
     "text": [
      "Anagram\n"
     ]
    }
   ],
   "source": [
    "def is_anagram(str1, str2):\n",
    "    return sorted(str1) == sorted(str2)\n",
    "\n",
    "# Example usage\n",
    "string1 = \"listen\"\n",
    "string2 = \"silent\"\n",
    "if is_anagram(string1, string2):\n",
    "    print(\"Anagram\")\n",
    "else:\n",
    "    print(\"Not an anagram\")\n"
   ]
  },
  {
   "cell_type": "code",
   "execution_count": 13,
   "id": "c0f5d7e8-fcfd-4cce-b902-9a93d592a795",
   "metadata": {},
   "outputs": [
    {
     "name": "stdout",
     "output_type": "stream",
     "text": [
      "['abc', 'acb', 'bac', 'bca', 'cab', 'cba']\n"
     ]
    }
   ],
   "source": [
    "from itertools import permutations\n",
    "\n",
    "def generate_permutations(input_str):\n",
    "    perms = [''.join(p) for p in permutations(input_str)]\n",
    "    return perms\n",
    "\n",
    "# Example usage\n",
    "string = \"abc\"\n",
    "permutations = generate_permutations(string)\n",
    "print(permutations)\n"
   ]
  },
  {
   "cell_type": "code",
   "execution_count": 14,
   "id": "e5bb34f7-ec92-45a5-a90c-6796b3e832a7",
   "metadata": {},
   "outputs": [
    {
     "name": "stdout",
     "output_type": "stream",
     "text": [
      "[0, 1, 1, 2, 3, 5, 8, 13, 21, 34]\n"
     ]
    }
   ],
   "source": [
    "def fibonacci_sequence(num_terms):\n",
    "    sequence = [0, 1]\n",
    "    while len(sequence) < num_terms:\n",
    "        next_term = sequence[-1] + sequence[-2]\n",
    "        sequence.append(next_term)\n",
    "    return sequence\n",
    "\n",
    "# Example usage\n",
    "terms = 10\n",
    "fib_sequence = fibonacci_sequence(terms)\n",
    "print(fib_sequence)\n"
   ]
  },
  {
   "cell_type": "code",
   "execution_count": 15,
   "id": "dd08bc7b-d8ca-4de4-adad-899716fed6d1",
   "metadata": {},
   "outputs": [
    {
     "name": "stdout",
     "output_type": "stream",
     "text": [
      "3\n"
     ]
    }
   ],
   "source": [
    "def find_median(lst):\n",
    "    sorted_list = sorted(lst)\n",
    "    n = len(sorted_list)\n",
    "    if n % 2 == 0:\n",
    "        median = (sorted_list[n//2 - 1] + sorted_list[n//2]) / 2\n",
    "    else:\n",
    "        median = sorted_list[n//2]\n",
    "    return median\n",
    "\n",
    "# Example usage\n",
    "numbers = [1, 2, 3, 4, 5]\n",
    "median = find_median(numbers)\n",
    "print(median)\n"
   ]
  },
  {
   "cell_type": "code",
   "execution_count": 16,
   "id": "1c9b11e5-8273-4b8a-825b-b87233a692a8",
   "metadata": {},
   "outputs": [
    {
     "name": "stdout",
     "output_type": "stream",
     "text": [
      "Sorted\n"
     ]
    }
   ],
   "source": [
    "def is_sorted(lst):\n",
    "    return all(lst[i] <= lst[i+1] for i in range(len(lst)-1))\n",
    "\n",
    "# Example usage\n",
    "numbers = [1, 2, 3, 4, 5]\n",
    "if is_sorted(numbers):\n",
    "    print(\"Sorted\")\n",
    "else:\n",
    "    print(\"Not sorted\")\n"
   ]
  },
  {
   "cell_type": "code",
   "execution_count": 17,
   "id": "0959c97c-9349-43e8-b8cc-763c33a8c204",
   "metadata": {},
   "outputs": [
    {
     "name": "stdout",
     "output_type": "stream",
     "text": [
      "[4, 5]\n"
     ]
    }
   ],
   "source": [
    "def find_intersection(list1, list2):\n",
    "    return list(set(list1) & set(list2))\n",
    "\n",
    "# Example usage\n",
    "list1 = [1, 2, 3, 4, 5]\n",
    "list2 = [4, 5, 6, 7, 8]\n",
    "intersection = find_intersection(list1, list2)\n",
    "print(intersection)\n"
   ]
  },
  {
   "cell_type": "code",
   "execution_count": 18,
   "id": "920d8991-74ca-4f9d-ad33-cc99353bef6b",
   "metadata": {},
   "outputs": [
    {
     "name": "stdout",
     "output_type": "stream",
     "text": [
      "7\n"
     ]
    }
   ],
   "source": [
    "def find_max_subarray_sum(lst):\n",
    "    current_sum = lst[0]\n",
    "    max_sum = lst[0]\n",
    "\n",
    "    for num in lst[1:]:\n",
    "        current_sum = max(num, current_sum + num)\n",
    "        max_sum = max(max_sum, current_sum)\n",
    "\n",
    "    return max_sum\n",
    "\n",
    "# Example usage\n",
    "numbers = [-2, -3, 4, -1, -2, 1, 5, -3]\n",
    "max_subarray_sum = find_max_subarray_sum(numbers)\n",
    "print(max_subarray_sum)\n"
   ]
  },
  {
   "cell_type": "code",
   "execution_count": 19,
   "id": "51e0ef70-b8a4-495d-b8a7-8ff821d06fb6",
   "metadata": {},
   "outputs": [
    {
     "name": "stdout",
     "output_type": "stream",
     "text": [
      "Hll, Wrld!\n"
     ]
    }
   ],
   "source": [
    "def remove_vowels(input_str):\n",
    "    vowels = ['a', 'e', 'i', 'o', 'u', 'A', 'E', 'I', 'O', 'U']\n",
    "    return ''.join(char for char in input_str if char not in vowels)\n",
    "\n",
    "# Example usage\n",
    "string = \"Hello, World!\"\n",
    "result = remove_vowels(string)\n",
    "print(result)\n"
   ]
  },
  {
   "cell_type": "code",
   "execution_count": 20,
   "id": "c011152b-00b9-4e64-b78d-71b3138601a3",
   "metadata": {},
   "outputs": [
    {
     "name": "stdout",
     "output_type": "stream",
     "text": [
      "World! Hello,\n"
     ]
    }
   ],
   "source": [
    "def reverse_words(sentence):\n",
    "    words = sentence.split()\n",
    "    reversed_sentence = ' '.join(reversed(words))\n",
    "    return reversed_sentence\n",
    "\n",
    "# Example usage\n",
    "sentence = \"Hello, World!\"\n",
    "reversed_sentence = reverse_words(sentence)\n",
    "print(reversed_sentence)\n"
   ]
  },
  {
   "cell_type": "code",
   "execution_count": 21,
   "id": "4e1badd3-b2f5-44be-91f1-336a5d0d3730",
   "metadata": {},
   "outputs": [
    {
     "name": "stdout",
     "output_type": "stream",
     "text": [
      "Anagrams\n"
     ]
    }
   ],
   "source": [
    "def are_anagrams(str1, str2):\n",
    "    return sorted(str1) == sorted(str2)\n",
    "\n",
    "# Example usage\n",
    "string1 = \"listen\"\n",
    "string2 = \"silent\"\n",
    "if are_anagrams(string1, string2):\n",
    "    print(\"Anagrams\")\n",
    "else:\n",
    "    print(\"Not anagrams\")\n"
   ]
  },
  {
   "cell_type": "code",
   "execution_count": 22,
   "id": "06eab7cf-b717-4717-a961-ec9e2c40a53a",
   "metadata": {},
   "outputs": [
    {
     "name": "stdout",
     "output_type": "stream",
     "text": [
      "h\n"
     ]
    }
   ],
   "source": [
    "def find_first_non_repeating_char(input_str):\n",
    "    char_count = {}\n",
    "    for char in input_str:\n",
    "        if char in char_count:\n",
    "            char_count[char] += 1\n",
    "        else:\n",
    "            char_count[char] = 1\n",
    "\n",
    "    for char in input_str:\n",
    "        if char_count[char] == 1:\n",
    "            return char\n",
    "\n",
    "    return None\n",
    "\n",
    "# Example usage\n",
    "string = \"hello\"\n",
    "result = find_first_non_repeating_char(string)\n",
    "print(result)\n"
   ]
  },
  {
   "cell_type": "code",
   "execution_count": 23,
   "id": "ebf3cfd3-bc10-487e-baa6-8b6beadce1b0",
   "metadata": {},
   "outputs": [
    {
     "name": "stdout",
     "output_type": "stream",
     "text": [
      "[2, 2, 2, 3]\n"
     ]
    }
   ],
   "source": [
    "def find_prime_factors(num):\n",
    "    factors = []\n",
    "    divisor = 2\n",
    "\n",
    "    while divisor <= num:\n",
    "        if num % divisor == 0:\n",
    "            factors.append(divisor)\n",
    "            num = num / divisor\n",
    "        else:\n",
    "            divisor += 1\n",
    "\n",
    "    return factors\n",
    "\n",
    "# Example usage\n",
    "number = 24\n",
    "prime_factors = find_prime_factors(number)\n",
    "print(prime_factors)\n"
   ]
  },
  {
   "cell_type": "code",
   "execution_count": 24,
   "id": "60da4c94-5c4e-483c-8179-7fdd1d1232a1",
   "metadata": {},
   "outputs": [
    {
     "name": "stdout",
     "output_type": "stream",
     "text": [
      "Power of two\n"
     ]
    }
   ],
   "source": [
    "def is_power_of_two(num):\n",
    "    if num <= 0:\n",
    "        return False\n",
    "    return (num & (num - 1)) == 0\n",
    "\n",
    "# Example usage\n",
    "number = 16\n",
    "if is_power_of_two(number):\n",
    "    print(\"Power of two\")\n",
    "else:\n",
    "    print(\"Not a power of two\")\n"
   ]
  },
  {
   "cell_type": "code",
   "execution_count": 25,
   "id": "6e230730-e9e0-445b-a5db-d44de426e796",
   "metadata": {},
   "outputs": [
    {
     "name": "stdout",
     "output_type": "stream",
     "text": [
      "[1, 2, 3, 4, 5, 6, 7, 8]\n"
     ]
    }
   ],
   "source": [
    "def merge_sorted_lists(list1, list2):\n",
    "    merged_list = []\n",
    "    i = 0\n",
    "    j = 0\n",
    "\n",
    "    while i < len(list1) and j < len(list2):\n",
    "        if list1[i] < list2[j]:\n",
    "            merged_list.append(list1[i])\n",
    "            i += 1\n",
    "        else:\n",
    "            merged_list.append(list2[j])\n",
    "            j += 1\n",
    "\n",
    "    while i < len(list1):\n",
    "        merged_list.append(list1[i])\n",
    "        i += 1\n",
    "\n",
    "    while j < len(list2):\n",
    "        merged_list.append(list2[j])\n",
    "        j += 1\n",
    "\n",
    "    return merged_list\n",
    "\n",
    "# Example usage\n",
    "list1 = [1, 3, 5, 7]\n",
    "list2 = [2, 4, 6, 8]\n",
    "merged_list = merge_sorted_lists(list1, list2)\n",
    "print(merged_list)\n"
   ]
  },
  {
   "cell_type": "code",
   "execution_count": 26,
   "id": "8a29d5cb-31c0-4055-abd5-5c21a38abcaf",
   "metadata": {},
   "outputs": [
    {
     "name": "stdout",
     "output_type": "stream",
     "text": [
      "[4]\n"
     ]
    }
   ],
   "source": [
    "from collections import Counter\n",
    "\n",
    "def find_mode(lst):\n",
    "    counter = Counter(lst)\n",
    "    max_count = max(counter.values())\n",
    "    modes = [num for num, count in counter.items() if count == max_count]\n",
    "    return modes\n",
    "\n",
    "# Example usage\n",
    "numbers = [1, 2, 2, 3, 3, 3, 4, 4, 4, 4]\n",
    "modes = find_mode(numbers)\n",
    "print(modes)\n"
   ]
  },
  {
   "cell_type": "code",
   "execution_count": 27,
   "id": "e277009e-63e3-41d9-9e0f-fd5700cddc78",
   "metadata": {},
   "outputs": [
    {
     "name": "stdout",
     "output_type": "stream",
     "text": [
      "12\n"
     ]
    }
   ],
   "source": [
    "def find_gcd(a, b):\n",
    "    while b != 0:\n",
    "        a, b = b, a % b\n",
    "    return a\n",
    "\n",
    "# Example usage\n",
    "num1 = 36\n",
    "num2 = 48\n",
    "gcd = find_gcd(num1, num2)\n",
    "print(gcd)\n"
   ]
  },
  {
   "cell_type": "code",
   "execution_count": 28,
   "id": "5e8badc1-4706-4f7d-8d1c-c0611e5c83a4",
   "metadata": {},
   "outputs": [
    {
     "name": "stdout",
     "output_type": "stream",
     "text": [
      "4.0\n"
     ]
    }
   ],
   "source": [
    "def find_square_root(n):\n",
    "    if n < 0:\n",
    "        return None\n",
    "    guess = n\n",
    "    while True:\n",
    "        new_guess = (guess + n / guess) / 2\n",
    "        if abs(new_guess - guess) < 1e-10:\n",
    "            return new_guess\n",
    "        guess = new_guess\n",
    "\n",
    "# Example usage\n",
    "number = 16\n",
    "square_root = find_square_root(number)\n",
    "print(square_root)\n"
   ]
  },
  {
   "cell_type": "code",
   "execution_count": 29,
   "id": "7af2d7c3-302a-46ae-9ad1-8687ca59c0fd",
   "metadata": {},
   "outputs": [
    {
     "name": "stdout",
     "output_type": "stream",
     "text": [
      "Valid palindrome\n"
     ]
    }
   ],
   "source": [
    "import re\n",
    "\n",
    "def is_valid_palindrome(input_str):\n",
    "    alphanumeric_str = re.sub(r'\\W+', '', input_str.lower())\n",
    "    return alphanumeric_str == alphanumeric_str[::-1]\n",
    "\n",
    "# Example usage\n",
    "string = \"A man, a plan, a canal: Panama\"\n",
    "if is_valid_palindrome(string):\n",
    "    print(\"Valid palindrome\")\n",
    "else:\n",
    "    print(\"Not a valid palindrome\")\n"
   ]
  },
  {
   "cell_type": "code",
   "execution_count": 30,
   "id": "4d32883f-931c-4510-b532-d6f49dd16a2b",
   "metadata": {},
   "outputs": [
    {
     "name": "stdout",
     "output_type": "stream",
     "text": [
      "0\n"
     ]
    }
   ],
   "source": [
    "def find_min_element_rotated(lst):\n",
    "    left = 0\n",
    "    right = len(lst) - 1\n",
    "\n",
    "    while left < right:\n",
    "        mid = left + (right - left) // 2\n",
    "\n",
    "        if lst[mid] > lst[right]:\n",
    "            left = mid + 1\n",
    "        else:\n",
    "            right = mid\n",
    "\n",
    "    return lst[left]\n",
    "\n",
    "# Example usage\n",
    "numbers = [4, 5, 6, 7, 0, 1, 2]\n",
    "min_element = find_min_element_rotated(numbers)\n",
    "print(min_element)\n"
   ]
  },
  {
   "cell_type": "code",
   "execution_count": 31,
   "id": "05d27328-366f-486c-bef8-a3438672d3e4",
   "metadata": {},
   "outputs": [
    {
     "name": "stdout",
     "output_type": "stream",
     "text": [
      "30\n"
     ]
    }
   ],
   "source": [
    "def sum_even_numbers(lst):\n",
    "    return sum(num for num in lst if num % 2 == 0)\n",
    "\n",
    "# Example usage\n",
    "numbers = [1, 2, 3, 4, 5, 6, 7, 8, 9, 10]\n",
    "sum_even = sum_even_numbers(numbers)\n",
    "print(sum_even)\n"
   ]
  },
  {
   "cell_type": "code",
   "execution_count": 32,
   "id": "abf3810b-e9b0-49ad-8595-44a14f36514a",
   "metadata": {},
   "outputs": [
    {
     "name": "stdout",
     "output_type": "stream",
     "text": [
      "8\n"
     ]
    }
   ],
   "source": [
    "def power(base, exponent):\n",
    "    if exponent == 0:\n",
    "        return 1\n",
    "    elif exponent < 0:\n",
    "        return 1 / power(base, -exponent)\n",
    "    else:\n",
    "        return base * power(base, exponent - 1)\n",
    "\n",
    "# Example usage\n",
    "base = 2\n",
    "exponent = 3\n",
    "result = power(base, exponent)\n",
    "print(result)\n"
   ]
  },
  {
   "cell_type": "code",
   "execution_count": 33,
   "id": "32ab8eb9-1dec-41cc-a358-f78269ae5725",
   "metadata": {},
   "outputs": [
    {
     "name": "stdout",
     "output_type": "stream",
     "text": [
      "[1, 2, 3, 4, 5]\n"
     ]
    }
   ],
   "source": [
    "from collections import OrderedDict\n",
    "\n",
    "def remove_duplicates_preserve_order(lst):\n",
    "    return list(OrderedDict.fromkeys(lst))\n",
    "\n",
    "# Example usage\n",
    "numbers = [1, 2, 3, 2, 1, 3, 4, 5, 4]\n",
    "unique_numbers = remove_duplicates_preserve_order(numbers)\n",
    "print(unique_numbers)\n"
   ]
  },
  {
   "cell_type": "code",
   "execution_count": 34,
   "id": "c355b37c-2444-40b3-8740-3ea21296ffe2",
   "metadata": {},
   "outputs": [
    {
     "name": "stdout",
     "output_type": "stream",
     "text": [
      "fl\n"
     ]
    }
   ],
   "source": [
    "def longest_common_prefix(strings):\n",
    "    if not strings:\n",
    "        return \"\"\n",
    "    shortest_string = min(strings, key=len)\n",
    "    for i, char in enumerate(shortest_string):\n",
    "        if any(string[i] != char for string in strings):\n",
    "            return shortest_string[:i]\n",
    "    return shortest_string\n",
    "\n",
    "# Example usage\n",
    "strings = [\"flower\", \"flow\", \"flight\"]\n",
    "common_prefix = longest_common_prefix(strings)\n",
    "print(common_prefix)\n"
   ]
  },
  {
   "cell_type": "code",
   "execution_count": 35,
   "id": "13a38846-e169-408d-8a3d-51383ffa8bf5",
   "metadata": {},
   "outputs": [
    {
     "name": "stdout",
     "output_type": "stream",
     "text": [
      "Perfect square\n"
     ]
    }
   ],
   "source": [
    "def is_perfect_square(num):\n",
    "    if num < 0:\n",
    "        return False\n",
    "    sqrt = int(num ** 0.5)\n",
    "    return sqrt * sqrt == num\n",
    "\n",
    "# Example usage\n",
    "number = 16\n",
    "if is_perfect_square(number):\n",
    "    print(\"Perfect square\")\n",
    "else:\n",
    "    print(\"Not a perfect square\")\n"
   ]
  },
  {
   "cell_type": "code",
   "execution_count": 36,
   "id": "fef6219f-0cd7-423e-9182-5e23d4541f74",
   "metadata": {},
   "outputs": [
    {
     "name": "stdout",
     "output_type": "stream",
     "text": [
      "120\n"
     ]
    }
   ],
   "source": [
    "from functools import reduce\n",
    "\n",
    "def calculate_product(lst):\n",
    "    return reduce(lambda x, y: x * y, lst)\n",
    "\n",
    "# Example usage\n",
    "numbers = [1, 2, 3, 4, 5]\n",
    "product = calculate_product(numbers)\n",
    "print(product)\n"
   ]
  },
  {
   "cell_type": "code",
   "execution_count": 37,
   "id": "a8b222ac-5c4d-4ee4-a791-1a2018d3e331",
   "metadata": {},
   "outputs": [
    {
     "name": "stdout",
     "output_type": "stream",
     "text": [
      "World! Hello,\n"
     ]
    }
   ],
   "source": [
    "def reverse_words_preserve_order(sentence):\n",
    "    words = sentence.split()\n",
    "    reversed_sentence = ' '.join(words[::-1])\n",
    "    return reversed_sentence\n",
    "\n",
    "# Example usage\n",
    "sentence = \"Hello, World!\"\n",
    "reversed_sentence = reverse_words_preserve_order(sentence)\n",
    "print(reversed_sentence)\n"
   ]
  },
  {
   "cell_type": "code",
   "execution_count": 38,
   "id": "26a36f9c-ac32-434e-99a7-71fdebe06900",
   "metadata": {},
   "outputs": [
    {
     "name": "stdout",
     "output_type": "stream",
     "text": [
      "4\n"
     ]
    }
   ],
   "source": [
    "def find_missing_number(lst):\n",
    "    n = len(lst) + 1\n",
    "    expected_sum = (n * (n + 1)) // 2\n",
    "    actual_sum = sum(lst)\n",
    "    missing_number = expected_sum - actual_sum\n",
    "    return missing_number\n",
    "\n",
    "# Example usage\n",
    "numbers = [1, 2, 3, 5]\n",
    "missing_number = find_missing_number(numbers)\n",
    "print(missing_number)\n"
   ]
  },
  {
   "cell_type": "code",
   "execution_count": 39,
   "id": "6e5c7e44-dafb-4314-b27f-7f316961b757",
   "metadata": {},
   "outputs": [
    {
     "name": "stdout",
     "output_type": "stream",
     "text": [
      "15\n"
     ]
    }
   ],
   "source": [
    "def sum_of_digits(num):\n",
    "    total = 0\n",
    "    while num > 0:\n",
    "        total += num % 10\n",
    "        num = num // 10\n",
    "    return total\n",
    "\n",
    "# Example usage\n",
    "number = 12345\n",
    "sum_digits = sum_of_digits(number)\n",
    "print(sum_digits)\n"
   ]
  },
  {
   "cell_type": "code",
   "execution_count": 40,
   "id": "698f2ada-6613-446b-8834-e6d36e1b9af3",
   "metadata": {},
   "outputs": [
    {
     "name": "stdout",
     "output_type": "stream",
     "text": [
      "Valid palindrome\n"
     ]
    }
   ],
   "source": [
    "def is_valid_palindrome_case_sensitive(input_str):\n",
    "    return input_str == input_str[::-1]\n",
    "\n",
    "# Example usage\n",
    "string = \"level\"\n",
    "if is_valid_palindrome_case_sensitive(string):\n",
    "    print(\"Valid palindrome\")\n",
    "else:\n",
    "    print(\"Not a valid palindrome\")\n"
   ]
  },
  {
   "cell_type": "code",
   "execution_count": 41,
   "id": "8058ede1-3494-465d-abf7-24ed60abf049",
   "metadata": {},
   "outputs": [
    {
     "name": "stdout",
     "output_type": "stream",
     "text": [
      "2\n"
     ]
    }
   ],
   "source": [
    "def find_smallest_missing_positive(lst):\n",
    "    n = len(lst)\n",
    "    for i in range(n):\n",
    "        while 0 <= lst[i] < n and lst[i] != lst[lst[i]]:\n",
    "            lst[lst[i]], lst[i] = lst[i], lst[lst[i]]\n",
    "    for i in range(1, n):\n",
    "        if lst[i] != i:\n",
    "            return i\n",
    "    return n\n",
    "\n",
    "# Example usage\n",
    "numbers = [3, 4, -1, 1]\n",
    "smallest_missing = find_smallest_missing_positive(numbers)\n",
    "print(smallest_missing)\n"
   ]
  },
  {
   "cell_type": "code",
   "execution_count": 42,
   "id": "cc74456f-4658-4a72-a49a-a9d613eb3e17",
   "metadata": {},
   "outputs": [
    {
     "name": "stdout",
     "output_type": "stream",
     "text": [
      "bab\n"
     ]
    }
   ],
   "source": [
    "def longest_palindrome_substring(input_str):\n",
    "    longest = \"\"\n",
    "    for i in range(len(input_str)):\n",
    "        for j in range(i, len(input_str)):\n",
    "            substring = input_str[i:j+1]\n",
    "            if substring == substring[::-1] and len(substring) > len(longest):\n",
    "                longest = substring\n",
    "    return longest\n",
    "\n",
    "# Example usage\n",
    "string = \"babad\"\n",
    "longest_palindrome = longest_palindrome_substring(string)\n",
    "print(longest_palindrome)\n"
   ]
  },
  {
   "cell_type": "code",
   "execution_count": 43,
   "id": "da29ae74-c24a-4706-a734-1b8efbc05f53",
   "metadata": {},
   "outputs": [
    {
     "name": "stdout",
     "output_type": "stream",
     "text": [
      "2\n"
     ]
    }
   ],
   "source": [
    "def count_occurrences(lst, element):\n",
    "    return lst.count(element)\n",
    "\n",
    "# Example usage\n",
    "numbers = [1, 2, 3, 2, 1, 3, 4, 5, 4]\n",
    "count = count_occurrences(numbers, 2)\n",
    "print(count)\n"
   ]
  },
  {
   "cell_type": "code",
   "execution_count": 44,
   "id": "dfb758a7-9995-45cf-a17a-45f59e5f4639",
   "metadata": {},
   "outputs": [
    {
     "name": "stdout",
     "output_type": "stream",
     "text": [
      "Perfect number\n"
     ]
    }
   ],
   "source": [
    "def is_perfect_number(num):\n",
    "    if num <= 0:\n",
    "        return False\n",
    "    divisors = [i for i in range(1, num) if num % i == 0]\n",
    "    return sum(divisors) == num\n",
    "\n",
    "# Example usage\n",
    "number = 28\n",
    "if is_perfect_number(number):\n",
    "    print(\"Perfect number\")\n",
    "else:\n",
    "    print(\"Not a perfect number\")\n"
   ]
  },
  {
   "cell_type": "code",
   "execution_count": 45,
   "id": "238fb5f9-a208-4c11-9846-f384b1859542",
   "metadata": {},
   "outputs": [
    {
     "name": "stdout",
     "output_type": "stream",
     "text": [
      "r,odl!We H\n"
     ]
    }
   ],
   "source": [
    "def remove_duplicates_from_string(input_str):\n",
    "    return ''.join(set(input_str))\n",
    "\n",
    "# Example usage\n",
    "string = \"Hello, World!\"\n",
    "result = remove_duplicates_from_string(string)\n",
    "print(result)\n"
   ]
  },
  {
   "cell_type": "code",
   "execution_count": 46,
   "id": "83959c78-94ef-4a7a-ad3c-17b56093f7f5",
   "metadata": {},
   "outputs": [
    {
     "name": "stdout",
     "output_type": "stream",
     "text": [
      "2\n"
     ]
    }
   ],
   "source": [
    "def find_first_missing_positive(lst):\n",
    "    n = len(lst)\n",
    "    for i in range(n):\n",
    "        while 0 < lst[i] <= n and lst[lst[i]-1] != lst[i]:\n",
    "            lst[lst[i]-1], lst[i] = lst[i], lst[lst[i]-1]\n",
    "    for i in range(n):\n",
    "        if lst[i] != i + 1:\n",
    "            return i + 1\n",
    "    return n + 1\n",
    "\n",
    "# Example usage\n",
    "numbers = [3, 4, -1, 1]\n",
    "missing_positive = find_first_missing_positive(numbers)\n",
    "print(missing_positive)\n"
   ]
  },
  {
   "cell_type": "code",
   "execution_count": null,
   "id": "43b84298-113d-4698-b860-aa5b52c7570d",
   "metadata": {},
   "outputs": [],
   "source": []
  }
 ],
 "metadata": {
  "kernelspec": {
   "display_name": "Python 3 (ipykernel)",
   "language": "python",
   "name": "python3"
  },
  "language_info": {
   "codemirror_mode": {
    "name": "ipython",
    "version": 3
   },
   "file_extension": ".py",
   "mimetype": "text/x-python",
   "name": "python",
   "nbconvert_exporter": "python",
   "pygments_lexer": "ipython3",
   "version": "3.10.8"
  }
 },
 "nbformat": 4,
 "nbformat_minor": 5
}
